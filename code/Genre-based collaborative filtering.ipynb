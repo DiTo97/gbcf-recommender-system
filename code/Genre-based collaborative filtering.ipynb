{
 "cells": [
  {
   "cell_type": "markdown",
   "metadata": {},
   "source": [
    "# Genre-based collaborative filtering\n",
    "\n",
    "This experimentation of the item-based collaborative filtering, inspired from the implementation of the improved method proposed by S. Choi, S. Ko, Y. Han, *A Movie Recommendation Algorithm Based on Genre Correlations, 2012*, is going to focus solely on *genre correlations* (**GBCF**) among movies, avoiding any kind of influence from fluid sources, like user ratings. Indeed, since genres are assumed to be assigned to movies by domain experts, we want to assert if they can provide a better accuracy than the previous ones, w.r.t. the predictive power of the similarity model."
   ]
  },
  {
   "cell_type": "code",
   "execution_count": 1,
   "metadata": {},
   "outputs": [
    {
     "data": {
      "text/plain": [
       "'D:\\\\ComputerScience\\\\Anaconda3\\\\pkgs\\\\pyspark-2.4.5-py_0\\\\site-packages\\\\pyspark'"
      ]
     },
     "execution_count": 1,
     "metadata": {},
     "output_type": "execute_result"
    }
   ],
   "source": [
    "import findspark\n",
    "\n",
    "findspark.init()\n",
    "findspark.find()"
   ]
  },
  {
   "cell_type": "code",
   "execution_count": 2,
   "metadata": {},
   "outputs": [],
   "source": [
    "from pyspark.sql import SparkSession\n",
    "\n",
    "ss = SparkSession.builder.appName('IBCF with genre analysis') \\\n",
    "            .config('spark.master', 'local[*]').getOrCreate()\n",
    "sc = ss.sparkContext"
   ]
  },
  {
   "cell_type": "markdown",
   "metadata": {},
   "source": [
    "## Data analysis"
   ]
  },
  {
   "cell_type": "markdown",
   "metadata": {},
   "source": [
    "### Training/test RDDs schema:\n",
    "\n",
    "`userid, movieid, rating, timestamp, genres`"
   ]
  },
  {
   "cell_type": "code",
   "execution_count": 3,
   "metadata": {},
   "outputs": [],
   "source": [
    "rdd_training = sc.parallelize([(1, 1, 5.0, 964982600, ['Comedy', 'Drama', 'Romantic']),\n",
    "                                    (1, 2, 2.0, 964982730, ['Action', 'Drama']),\n",
    "                                    (2, 1, 4.0, 964982503, ['Comedy', 'Drama', 'Romantic'])])\n",
    "rdd_test = sc.parallelize([(2, 2, 4.0, 964985830, ['Action', 'Drama'])])"
   ]
  },
  {
   "cell_type": "markdown",
   "metadata": {},
   "source": [
    "### Average ratings RDD schema:    \n",
    "\n",
    "`movieid, avgrating, genres`"
   ]
  },
  {
   "cell_type": "code",
   "execution_count": 4,
   "metadata": {},
   "outputs": [],
   "source": [
    "rdd_avg_rating = sc.parallelize([(1, 4.5, ['Comedy', 'Drama', 'Romantic']),\n",
    "                                 (2, 2.0, ['Action', 'Drama'])])"
   ]
  },
  {
   "cell_type": "markdown",
   "metadata": {},
   "source": [
    "### User favourite genres RDD schema:\n",
    "\n",
    "`userid, favgenres`"
   ]
  },
  {
   "cell_type": "code",
   "execution_count": 5,
   "metadata": {},
   "outputs": [],
   "source": [
    "rdd_fav_genres = sc.parallelize([(1, ['Action', 'Comedy']), (2, ['Drama'])])"
   ]
  },
  {
   "cell_type": "markdown",
   "metadata": {},
   "source": [
    "## Genre correlation matrix"
   ]
  },
  {
   "cell_type": "markdown",
   "metadata": {},
   "source": [
    "Map *rdd_training* as key-value pairs in the form `movieid => (genres, avgrating)`."
   ]
  },
  {
   "cell_type": "code",
   "execution_count": 6,
   "metadata": {},
   "outputs": [],
   "source": [
    "rdd_movies = rdd_training.map(lambda x: (x[1], tuple(x[4]))) \\\n",
    "                    .join(rdd_avg_rating.map(lambda x: (x[0], x[1]))) \\\n",
    "                    .distinct().cache()"
   ]
  },
  {
   "cell_type": "markdown",
   "metadata": {},
   "source": [
    "### Local implementation"
   ]
  },
  {
   "cell_type": "code",
   "execution_count": 7,
   "metadata": {},
   "outputs": [],
   "source": [
    "class GCF():\n",
    "    \"\"\"Genre-based collaborative filtering\"\"\"\n",
    "    \n",
    "    def __init__(self, movies_data):\n",
    "        self.__create_corr_matrix(movies_data)\n",
    "        \n",
    "    ## Private methods ##\n",
    "    def __create_corr_matrix(self, movies_data):\n",
    "        self.__corr_matrix = {}\n",
    "        genres_tuples = []\n",
    "        \n",
    "        for movie_data in list(movies_data):\n",
    "            genres = movie_data[1][0]\n",
    "            \n",
    "            genres_tuples.append(genres)\n",
    "\n",
    "            while(len(genres) > 1):\n",
    "                criterion_genre = genres[0]\n",
    "                \n",
    "                if criterion_genre not in self.__corr_matrix.keys():\n",
    "                    from collections import defaultdict\n",
    "                    self.__corr_matrix[criterion_genre] = defaultdict(int)\n",
    "\n",
    "                genres = genres[1:]\n",
    "\n",
    "                for g in genres:\n",
    "                    self.__corr_matrix[criterion_genre]['Total_cnt'] += 1\n",
    "                    self.__corr_matrix[criterion_genre][g] += 1\n",
    "                    \n",
    "        for k, v in self.__corr_matrix.items():\n",
    "            total_cnt = v.pop('Total_cnt')\n",
    "\n",
    "            for g in v.keys():\n",
    "                v[g] /= total_cnt\n",
    "                \n",
    "        self.__filter_unique_genres(genres_tuples)\n",
    "                        \n",
    "    def __filter_unique_genres(self, genres_tuples):\n",
    "        from functools import reduce\n",
    "        import numpy as np\n",
    "\n",
    "        self.__unique_genres = np.unique(np.array(reduce(\n",
    "            lambda a, b: a + b, genres_tuples)))\n",
    "        \n",
    "    def __compute_movie_recommendation_points(self, user_fav_genres,\n",
    "                        movie_genres, avg_rating):\n",
    "        points_sum = 0.0\n",
    "\n",
    "        for user_genre in user_fav_genres:\n",
    "            norm_factor = len(movie_genres)\n",
    "            if user_genre in movie_genres:\n",
    "                norm_factor -= 1\n",
    "\n",
    "            for movie_genre in movie_genres:\n",
    "                points_sum += self.get_corr_coeff(user_genre, movie_genre,\n",
    "                                            norm_factor)\n",
    "\n",
    "        return round(points_sum * avg_rating \\\n",
    "                    / len(user_fav_genres), 6)\n",
    "                \n",
    "    ## Public methods ##\n",
    "    def get_corr_coeff(self, genre_A, genre_B, norm_factor=1):\n",
    "        if self.__corr_matrix is None \\\n",
    "                or len(self.__corr_matrix) == 0:\n",
    "            raise ValueError('Correlation matrix not created yet')\n",
    "            \n",
    "        if genre_A not in self.__unique_genres:\n",
    "            raise ValueError(\"Gender doesn't exists: %s\" % genre_A.capitalize())\n",
    "        elif genre_B not in self.__unique_genres:\n",
    "            raise ValueError(\"Gender doesn't exists: %s\" % genre_B.capitalize())\n",
    "            \n",
    "        if genre_A == genre_B:\n",
    "            return 1.0\n",
    "        elif genre_A not in self.__corr_matrix.keys():\n",
    "            return 0.0\n",
    "        elif genre_B not in self.__corr_matrix[genre_A].keys():\n",
    "            return 0.0\n",
    "        else:\n",
    "            return self.__corr_matrix[genre_A][genre_B] \\\n",
    "                        * (1. / norm_factor)\n",
    "        \n",
    "    def make_recommendations(self, users_data,\n",
    "                    unseen_movies_data, n_movies=10):\n",
    "        movies_recommendations = {}\n",
    "\n",
    "        for user_data in users_data:\n",
    "            user_id, fav_genres = user_data\n",
    "\n",
    "            movies_ratings = {}\n",
    "\n",
    "            try:\n",
    "                for movie_data in unseen_movies_data[user_id]:\n",
    "                    movie_id, movie_info = movie_data\n",
    "                    movie_genres, avg_rating = movie_info\n",
    "\n",
    "                    movies_ratings[movie_id] = self.__compute_movie_recommendation_points(fav_genres,\n",
    "                                                        movie_genres, avg_rating)\n",
    "\n",
    "                    sorted_ratings = sorted(movies_ratings\n",
    "                                .items())[:n_movies]\n",
    "\n",
    "                    movies_recommendations[user_id] = sorted_ratings\n",
    "            except KeyError:\n",
    "                movies_recommendations[user_id] = None\n",
    "\n",
    "        return movies_recommendations"
   ]
  },
  {
   "cell_type": "code",
   "execution_count": 8,
   "metadata": {},
   "outputs": [
    {
     "name": "stdout",
     "output_type": "stream",
     "text": [
      "[(2, (('Action', 'Drama'), 2.0)), (1, (('Comedy', 'Drama', 'Romantic'), 4.5))]\n"
     ]
    }
   ],
   "source": [
    "movies_data = rdd_movies.collect()\n",
    "print(movies_data)"
   ]
  },
  {
   "cell_type": "code",
   "execution_count": 9,
   "metadata": {},
   "outputs": [
    {
     "data": {
      "text/plain": [
       "0.5"
      ]
     },
     "execution_count": 9,
     "metadata": {},
     "output_type": "execute_result"
    }
   ],
   "source": [
    "gcf = GCF(movies_data)\n",
    "gcf.get_corr_coeff('Comedy', 'Drama')"
   ]
  },
  {
   "cell_type": "markdown",
   "metadata": {},
   "source": [
    "### Distributed implementation (MapReduce)\n",
    "\n",
    "Check Scala package *lsc.exam.diTo.Predictor*"
   ]
  },
  {
   "cell_type": "markdown",
   "metadata": {},
   "source": [
    "## Movies recommendation"
   ]
  },
  {
   "cell_type": "markdown",
   "metadata": {},
   "source": [
    "### Local implementation"
   ]
  },
  {
   "cell_type": "code",
   "execution_count": 10,
   "metadata": {},
   "outputs": [
    {
     "name": "stdout",
     "output_type": "stream",
     "text": [
      "[(1, ['Action', 'Comedy']), (2, ['Drama'])]\n"
     ]
    }
   ],
   "source": [
    "users_data = rdd_fav_genres.collect()\n",
    "print(users_data)"
   ]
  },
  {
   "cell_type": "markdown",
   "metadata": {},
   "source": [
    "#### Extract unseen movies per-user (Test set on a real scenario)\n",
    "\n",
    "Transform *rdd_training* to extract yet to see/rate movies for each user with a <b>5-step</b> process:\n",
    "\n",
    "<ol style=\"list-style-type: upper-alpha;\">\n",
    "  <li>Map <i>rdd_training</i> as key-value pairs in the form <code>userid => [seen_movieids]</code></li>\n",
    "    \n",
    "  <li>Map <i>rdd_training</i> as key-value pairs in the form <code>userid => ([seen_movieids], [all_movieids])</code></li>\n",
    "  <li>Map <i>rdd_training</i> as key-value pairs in the form <code>userid => [unseen_movieids]</code>, by computing the set subtraction operation between the above two sets <code>[all_movieids] - [seen_movieids]</code>. </li>\n",
    "    <li>Flatten <i>rdd_training</i> and invert key-value pairs in the form <code>unseen_movieid => userid</code> and join it with <i>rdd_movies</i></li> to extract movies information and obtain key-value pairs in the form <code>unseen_movieid => (userid, movieinfo)</code>\n",
    "    <li>Re-invert key-value pairs in <i>rdd_training</i>, apply <i>reduceByKey</i> on <code>userid</code> to get key-list pairs in the form <code>userid => [(unseen_movieids, moviesinfo)]</code> and cache the results, which will be later collected as a Python dict with <i>collectAsMap()</i>.</li>\n",
    "</ol>"
   ]
  },
  {
   "cell_type": "code",
   "execution_count": 11,
   "metadata": {},
   "outputs": [],
   "source": [
    "# A\n",
    "rdd_unseen_movies = rdd_training.map(lambda x: (x[0], (x[1],))) \\\n",
    "                        .reduceByKey(lambda x, y: x + y)\n",
    "\n",
    "# B\n",
    "rdd_unseen_movies = rdd_unseen_movies.cartesian(rdd_movies.map(lambda x: x[0])) \\\n",
    "                        .mapValues(lambda x: (x,)) \\\n",
    "                        .reduceByKey(lambda x, y: x + y)\n",
    "\n",
    "# C\n",
    "rdd_unseen_movies = rdd_unseen_movies.map(lambda x: (x[0][0], tuple(set(x[1]) - set(x[0][1])))) \\\n",
    "                        .flatMap(lambda x: [(x[0], i) for i in x[1]])\n",
    "\n",
    "# D\n",
    "rdd_unseen_movies = rdd_unseen_movies.map(lambda x: (x[1], x[0])) \\\n",
    "                        .join(rdd_movies) \\\n",
    "                        .map(lambda x: (x[1][0], [(x[0], x[1][1])]))\n",
    "\n",
    "# E\n",
    "rdd_unseen_movies = rdd_unseen_movies.reduceByKey(lambda x, y: x + y).cache()"
   ]
  },
  {
   "cell_type": "code",
   "execution_count": 12,
   "metadata": {},
   "outputs": [
    {
     "name": "stdout",
     "output_type": "stream",
     "text": [
      "{2: [(2, (('Action', 'Drama'), 2.0))]}\n"
     ]
    }
   ],
   "source": [
    "unseen_movies_data = rdd_unseen_movies.collectAsMap()\n",
    "print(unseen_movies_data)"
   ]
  },
  {
   "cell_type": "code",
   "execution_count": 14,
   "metadata": {},
   "outputs": [
    {
     "name": "stdout",
     "output_type": "stream",
     "text": [
      "{1: None, 2: [(2, 2.0)]}\n"
     ]
    }
   ],
   "source": [
    "movies_recommendations = gcf.make_recommendations(users_data,\n",
    "                                unseen_movies_data, 10)\n",
    "print(movies_recommendations)"
   ]
  },
  {
   "cell_type": "markdown",
   "metadata": {},
   "source": [
    "### Distributed implementation (MapReduce)\n",
    "\n",
    "Check Scala package *lsc.exam.diTo.Recommender*"
   ]
  },
  {
   "cell_type": "code",
   "execution_count": 45,
   "metadata": {},
   "outputs": [],
   "source": [
    "sc.stop()"
   ]
  },
  {
   "cell_type": "markdown",
   "metadata": {},
   "source": [
    "## Results\n",
    "\n",
    "Check PowerPoint slides *Genre-based collaborative filtering.pptx*"
   ]
  }
 ],
 "metadata": {
  "kernelspec": {
   "display_name": "Python 3",
   "language": "python",
   "name": "python3"
  },
  "language_info": {
   "codemirror_mode": {
    "name": "ipython",
    "version": 3
   },
   "file_extension": ".py",
   "mimetype": "text/x-python",
   "name": "python",
   "nbconvert_exporter": "python",
   "pygments_lexer": "ipython3",
   "version": "3.7.5"
  }
 },
 "nbformat": 4,
 "nbformat_minor": 4
}